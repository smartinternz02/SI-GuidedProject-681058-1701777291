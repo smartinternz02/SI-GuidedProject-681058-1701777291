{
 "cells": [
  {
   "cell_type": "markdown",
   "metadata": {},
   "source": [
    "## Importing the Libraries"
   ]
  },
  {
   "cell_type": "code",
   "execution_count": 1,
   "metadata": {},
   "outputs": [],
   "source": [
    "import numpy as np\n",
    "import pandas as pd\n",
    "import matplotlib.pyplot as plt\n",
    "import seaborn as sns "
   ]
  },
  {
   "cell_type": "markdown",
   "metadata": {},
   "source": [
    "### Read the dataset"
   ]
  },
  {
   "cell_type": "code",
   "execution_count": null,
   "metadata": {},
   "outputs": [],
   "source": [
    "df=pd.read_csv(\"soil-moisture.csv\")\n",
    "df"
   ]
  },
  {
   "cell_type": "markdown",
   "metadata": {},
   "source": [
    "## Data Preparation\n",
    "#### Getting The Preliminary Information About The Dataset"
   ]
  },
  {
   "cell_type": "code",
   "execution_count": 3,
   "metadata": {},
   "outputs": [
    {
     "data": {
      "text/plain": [
       "(224, 11)"
      ]
     },
     "execution_count": 3,
     "metadata": {},
     "output_type": "execute_result"
    }
   ],
   "source": [
    "df.shape"
   ]
  },
  {
   "cell_type": "code",
   "execution_count": 4,
   "metadata": {},
   "outputs": [
    {
     "name": "stdout",
     "output_type": "stream",
     "text": [
      "<class 'pandas.core.frame.DataFrame'>\n",
      "RangeIndex: 224 entries, 0 to 223\n",
      "Data columns (total 11 columns):\n",
      " #   Column    Non-Null Count  Dtype  \n",
      "---  ------    --------------  -----  \n",
      " 0   Month     224 non-null    object \n",
      " 1   Day       224 non-null    int64  \n",
      " 2   avg_pm1   224 non-null    float64\n",
      " 3   avg_pm2   224 non-null    float64\n",
      " 4   avg_pm3   224 non-null    float64\n",
      " 5   avg_am    224 non-null    float64\n",
      " 6   avg_lum   224 non-null    float64\n",
      " 7   avg_temp  224 non-null    float64\n",
      " 8   avg_humd  224 non-null    float64\n",
      " 9   avg_pres  224 non-null    float64\n",
      " 10  avg_sm    224 non-null    float64\n",
      "dtypes: float64(9), int64(1), object(1)\n",
      "memory usage: 19.4+ KB\n"
     ]
    }
   ],
   "source": [
    "df.info()"
   ]
  },
  {
   "cell_type": "code",
   "execution_count": 5,
   "metadata": {},
   "outputs": [
    {
     "data": {
      "text/html": [
       "<div>\n",
       "<style scoped>\n",
       "    .dataframe tbody tr th:only-of-type {\n",
       "        vertical-align: middle;\n",
       "    }\n",
       "\n",
       "    .dataframe tbody tr th {\n",
       "        vertical-align: top;\n",
       "    }\n",
       "\n",
       "    .dataframe thead th {\n",
       "        text-align: right;\n",
       "    }\n",
       "</style>\n",
       "<table border=\"1\" class=\"dataframe\">\n",
       "  <thead>\n",
       "    <tr style=\"text-align: right;\">\n",
       "      <th></th>\n",
       "      <th>Day</th>\n",
       "      <th>avg_pm1</th>\n",
       "      <th>avg_pm2</th>\n",
       "      <th>avg_pm3</th>\n",
       "      <th>avg_am</th>\n",
       "      <th>avg_lum</th>\n",
       "      <th>avg_temp</th>\n",
       "      <th>avg_humd</th>\n",
       "      <th>avg_pres</th>\n",
       "      <th>avg_sm</th>\n",
       "    </tr>\n",
       "  </thead>\n",
       "  <tbody>\n",
       "    <tr>\n",
       "      <th>count</th>\n",
       "      <td>224.000000</td>\n",
       "      <td>224.000000</td>\n",
       "      <td>224.000000</td>\n",
       "      <td>224.000000</td>\n",
       "      <td>224.000000</td>\n",
       "      <td>224.000000</td>\n",
       "      <td>224.000000</td>\n",
       "      <td>224.000000</td>\n",
       "      <td>224.000000</td>\n",
       "      <td>224.000000</td>\n",
       "    </tr>\n",
       "    <tr>\n",
       "      <th>mean</th>\n",
       "      <td>15.875000</td>\n",
       "      <td>1.365278</td>\n",
       "      <td>2.134474</td>\n",
       "      <td>49.114740</td>\n",
       "      <td>1.014181</td>\n",
       "      <td>2722.153112</td>\n",
       "      <td>22.539300</td>\n",
       "      <td>73.015649</td>\n",
       "      <td>93234.844591</td>\n",
       "      <td>3257.613631</td>\n",
       "    </tr>\n",
       "    <tr>\n",
       "      <th>std</th>\n",
       "      <td>9.113755</td>\n",
       "      <td>0.514288</td>\n",
       "      <td>1.032322</td>\n",
       "      <td>22.774731</td>\n",
       "      <td>0.981695</td>\n",
       "      <td>666.311082</td>\n",
       "      <td>1.534203</td>\n",
       "      <td>19.283496</td>\n",
       "      <td>255.194892</td>\n",
       "      <td>3105.998698</td>\n",
       "    </tr>\n",
       "    <tr>\n",
       "      <th>min</th>\n",
       "      <td>1.000000</td>\n",
       "      <td>0.866522</td>\n",
       "      <td>1.164902</td>\n",
       "      <td>24.940800</td>\n",
       "      <td>0.000000</td>\n",
       "      <td>789.708333</td>\n",
       "      <td>15.612500</td>\n",
       "      <td>29.041698</td>\n",
       "      <td>92472.839310</td>\n",
       "      <td>326.652174</td>\n",
       "    </tr>\n",
       "    <tr>\n",
       "      <th>25%</th>\n",
       "      <td>7.750000</td>\n",
       "      <td>1.030000</td>\n",
       "      <td>1.424875</td>\n",
       "      <td>33.520000</td>\n",
       "      <td>0.000000</td>\n",
       "      <td>2126.516601</td>\n",
       "      <td>21.756993</td>\n",
       "      <td>62.447063</td>\n",
       "      <td>93074.403017</td>\n",
       "      <td>370.662698</td>\n",
       "    </tr>\n",
       "    <tr>\n",
       "      <th>50%</th>\n",
       "      <td>16.000000</td>\n",
       "      <td>1.173074</td>\n",
       "      <td>1.759600</td>\n",
       "      <td>40.588400</td>\n",
       "      <td>1.047947</td>\n",
       "      <td>2844.347474</td>\n",
       "      <td>22.744897</td>\n",
       "      <td>77.770424</td>\n",
       "      <td>93266.479530</td>\n",
       "      <td>908.493421</td>\n",
       "    </tr>\n",
       "    <tr>\n",
       "      <th>75%</th>\n",
       "      <td>24.000000</td>\n",
       "      <td>1.504217</td>\n",
       "      <td>2.405481</td>\n",
       "      <td>55.226049</td>\n",
       "      <td>1.742388</td>\n",
       "      <td>3273.030289</td>\n",
       "      <td>23.551975</td>\n",
       "      <td>88.431701</td>\n",
       "      <td>93392.489513</td>\n",
       "      <td>6733.553362</td>\n",
       "    </tr>\n",
       "    <tr>\n",
       "      <th>max</th>\n",
       "      <td>31.000000</td>\n",
       "      <td>3.548400</td>\n",
       "      <td>6.403133</td>\n",
       "      <td>132.736096</td>\n",
       "      <td>4.347826</td>\n",
       "      <td>4339.593750</td>\n",
       "      <td>25.733922</td>\n",
       "      <td>99.659029</td>\n",
       "      <td>93814.778100</td>\n",
       "      <td>7696.133690</td>\n",
       "    </tr>\n",
       "  </tbody>\n",
       "</table>\n",
       "</div>"
      ],
      "text/plain": [
       "              Day     avg_pm1     avg_pm2     avg_pm3      avg_am  \\\n",
       "count  224.000000  224.000000  224.000000  224.000000  224.000000   \n",
       "mean    15.875000    1.365278    2.134474   49.114740    1.014181   \n",
       "std      9.113755    0.514288    1.032322   22.774731    0.981695   \n",
       "min      1.000000    0.866522    1.164902   24.940800    0.000000   \n",
       "25%      7.750000    1.030000    1.424875   33.520000    0.000000   \n",
       "50%     16.000000    1.173074    1.759600   40.588400    1.047947   \n",
       "75%     24.000000    1.504217    2.405481   55.226049    1.742388   \n",
       "max     31.000000    3.548400    6.403133  132.736096    4.347826   \n",
       "\n",
       "           avg_lum    avg_temp    avg_humd      avg_pres       avg_sm  \n",
       "count   224.000000  224.000000  224.000000    224.000000   224.000000  \n",
       "mean   2722.153112   22.539300   73.015649  93234.844591  3257.613631  \n",
       "std     666.311082    1.534203   19.283496    255.194892  3105.998698  \n",
       "min     789.708333   15.612500   29.041698  92472.839310   326.652174  \n",
       "25%    2126.516601   21.756993   62.447063  93074.403017   370.662698  \n",
       "50%    2844.347474   22.744897   77.770424  93266.479530   908.493421  \n",
       "75%    3273.030289   23.551975   88.431701  93392.489513  6733.553362  \n",
       "max    4339.593750   25.733922   99.659029  93814.778100  7696.133690  "
      ]
     },
     "execution_count": 5,
     "metadata": {},
     "output_type": "execute_result"
    }
   ],
   "source": [
    "df.describe()"
   ]
  },
  {
   "cell_type": "markdown",
   "metadata": {},
   "source": [
    "## Exploratory data analysis\n",
    "#### descriptive statistical"
   ]
  },
  {
   "cell_type": "code",
   "execution_count": 6,
   "metadata": {},
   "outputs": [
    {
     "data": {
      "text/plain": [
       "Aug    31\n",
       "Oct    31\n",
       "Dec    31\n",
       "Sep    30\n",
       "Nov    30\n",
       "Feb    28\n",
       "Jan    19\n",
       "Jul    14\n",
       "Mar    10\n",
       "Name: Month, dtype: int64"
      ]
     },
     "execution_count": 6,
     "metadata": {},
     "output_type": "execute_result"
    }
   ],
   "source": [
    "df['Month'].value_counts()"
   ]
  },
  {
   "cell_type": "markdown",
   "metadata": {},
   "source": [
    "## Visualization\n",
    "##### Class Analysis"
   ]
  },
  {
   "cell_type": "code",
   "execution_count": 7,
   "metadata": {},
   "outputs": [
    {
     "data": {
      "image/png": "[encoded data removed]",
      "text/plain": [
       "<Figure size 800x600 with 1 Axes>"
      ]
     },
     "metadata": {},
     "output_type": "display_data"
    }
   ],
   "source": [
    "plt.figure(figsize=(8,6))\n",
    "plt.bar(df['Month'],df.avg_sm)\n",
    "plt.title(\"Bar plot of average soil moisture\")\n",
    "plt.show()"
   ]
  },
  {
   "cell_type": "code",
   "execution_count": 8,
   "metadata": {},
   "outputs": [
    {
     "name": "stderr",
     "output_type": "stream",
     "text": [
      "C:\\Users\\rajes\\AppData\\Local\\Temp\\ipykernel_13320\\1134722465.py:1: FutureWarning: The default value of numeric_only in DataFrame.corr is deprecated. In a future version, it will default to False. Select only valid columns or specify the value of numeric_only to silence this warning.\n",
      "  df.corr()\n"
     ]
    },
    {
     "data": {
      "text/html": [
       "<div>\n",
       "<style scoped>\n",
       "    .dataframe tbody tr th:only-of-type {\n",
       "        vertical-align: middle;\n",
       "    }\n",
       "\n",
       "    .dataframe tbody tr th {\n",
       "        vertical-align: top;\n",
       "    }\n",
       "\n",
       "    .dataframe thead th {\n",
       "        text-align: right;\n",
       "    }\n",
       "</style>\n",
       "<table border=\"1\" class=\"dataframe\">\n",
       "  <thead>\n",
       "    <tr style=\"text-align: right;\">\n",
       "      <th></th>\n",
       "      <th>Day</th>\n",
       "      <th>avg_pm1</th>\n",
       "      <th>avg_pm2</th>\n",
       "      <th>avg_pm3</th>\n",
       "      <th>avg_am</th>\n",
       "      <th>avg_lum</th>\n",
       "      <th>avg_temp</th>\n",
       "      <th>avg_humd</th>\n",
       "      <th>avg_pres</th>\n",
       "      <th>avg_sm</th>\n",
       "    </tr>\n",
       "  </thead>\n",
       "  <tbody>\n",
       "    <tr>\n",
       "      <th>Day</th>\n",
       "      <td>1.000000</td>\n",
       "      <td>0.096007</td>\n",
       "      <td>0.096429</td>\n",
       "      <td>0.094845</td>\n",
       "      <td>-0.121076</td>\n",
       "      <td>-0.108920</td>\n",
       "      <td>0.007429</td>\n",
       "      <td>0.018934</td>\n",
       "      <td>0.038497</td>\n",
       "      <td>0.023495</td>\n",
       "    </tr>\n",
       "    <tr>\n",
       "      <th>avg_pm1</th>\n",
       "      <td>0.096007</td>\n",
       "      <td>1.000000</td>\n",
       "      <td>0.998515</td>\n",
       "      <td>0.931487</td>\n",
       "      <td>-0.620894</td>\n",
       "      <td>0.490067</td>\n",
       "      <td>0.074739</td>\n",
       "      <td>0.580940</td>\n",
       "      <td>-0.665735</td>\n",
       "      <td>0.742982</td>\n",
       "    </tr>\n",
       "    <tr>\n",
       "      <th>avg_pm2</th>\n",
       "      <td>0.096429</td>\n",
       "      <td>0.998515</td>\n",
       "      <td>1.000000</td>\n",
       "      <td>0.944266</td>\n",
       "      <td>-0.625120</td>\n",
       "      <td>0.502682</td>\n",
       "      <td>0.076984</td>\n",
       "      <td>0.587759</td>\n",
       "      <td>-0.673570</td>\n",
       "      <td>0.747114</td>\n",
       "    </tr>\n",
       "    <tr>\n",
       "      <th>avg_pm3</th>\n",
       "      <td>0.094845</td>\n",
       "      <td>0.931487</td>\n",
       "      <td>0.944266</td>\n",
       "      <td>1.000000</td>\n",
       "      <td>-0.627792</td>\n",
       "      <td>0.538589</td>\n",
       "      <td>0.091523</td>\n",
       "      <td>0.591941</td>\n",
       "      <td>-0.674443</td>\n",
       "      <td>0.747698</td>\n",
       "    </tr>\n",
       "    <tr>\n",
       "      <th>avg_am</th>\n",
       "      <td>-0.121076</td>\n",
       "      <td>-0.620894</td>\n",
       "      <td>-0.625120</td>\n",
       "      <td>-0.627792</td>\n",
       "      <td>1.000000</td>\n",
       "      <td>-0.488481</td>\n",
       "      <td>-0.129759</td>\n",
       "      <td>-0.673725</td>\n",
       "      <td>0.620152</td>\n",
       "      <td>-0.799049</td>\n",
       "    </tr>\n",
       "    <tr>\n",
       "      <th>avg_lum</th>\n",
       "      <td>-0.108920</td>\n",
       "      <td>0.490067</td>\n",
       "      <td>0.502682</td>\n",
       "      <td>0.538589</td>\n",
       "      <td>-0.488481</td>\n",
       "      <td>1.000000</td>\n",
       "      <td>0.279896</td>\n",
       "      <td>0.624464</td>\n",
       "      <td>-0.551333</td>\n",
       "      <td>0.582989</td>\n",
       "    </tr>\n",
       "    <tr>\n",
       "      <th>avg_temp</th>\n",
       "      <td>0.007429</td>\n",
       "      <td>0.074739</td>\n",
       "      <td>0.076984</td>\n",
       "      <td>0.091523</td>\n",
       "      <td>-0.129759</td>\n",
       "      <td>0.279896</td>\n",
       "      <td>1.000000</td>\n",
       "      <td>-0.193638</td>\n",
       "      <td>-0.009071</td>\n",
       "      <td>0.126597</td>\n",
       "    </tr>\n",
       "    <tr>\n",
       "      <th>avg_humd</th>\n",
       "      <td>0.018934</td>\n",
       "      <td>0.580940</td>\n",
       "      <td>0.587759</td>\n",
       "      <td>0.591941</td>\n",
       "      <td>-0.673725</td>\n",
       "      <td>0.624464</td>\n",
       "      <td>-0.193638</td>\n",
       "      <td>1.000000</td>\n",
       "      <td>-0.637130</td>\n",
       "      <td>0.740389</td>\n",
       "    </tr>\n",
       "    <tr>\n",
       "      <th>avg_pres</th>\n",
       "      <td>0.038497</td>\n",
       "      <td>-0.665735</td>\n",
       "      <td>-0.673570</td>\n",
       "      <td>-0.674443</td>\n",
       "      <td>0.620152</td>\n",
       "      <td>-0.551333</td>\n",
       "      <td>-0.009071</td>\n",
       "      <td>-0.637130</td>\n",
       "      <td>1.000000</td>\n",
       "      <td>-0.695389</td>\n",
       "    </tr>\n",
       "    <tr>\n",
       "      <th>avg_sm</th>\n",
       "      <td>0.023495</td>\n",
       "      <td>0.742982</td>\n",
       "      <td>0.747114</td>\n",
       "      <td>0.747698</td>\n",
       "      <td>-0.799049</td>\n",
       "      <td>0.582989</td>\n",
       "      <td>0.126597</td>\n",
       "      <td>0.740389</td>\n",
       "      <td>-0.695389</td>\n",
       "      <td>1.000000</td>\n",
       "    </tr>\n",
       "  </tbody>\n",
       "</table>\n",
       "</div>"
      ],
      "text/plain": [
       "               Day   avg_pm1   avg_pm2   avg_pm3    avg_am   avg_lum  \\\n",
       "Day       1.000000  0.096007  0.096429  0.094845 -0.121076 -0.108920   \n",
       "avg_pm1   0.096007  1.000000  0.998515  0.931487 -0.620894  0.490067   \n",
       "avg_pm2   0.096429  0.998515  1.000000  0.944266 -0.625120  0.502682   \n",
       "avg_pm3   0.094845  0.931487  0.944266  1.000000 -0.627792  0.538589   \n",
       "avg_am   -0.121076 -0.620894 -0.625120 -0.627792  1.000000 -0.488481   \n",
       "avg_lum  -0.108920  0.490067  0.502682  0.538589 -0.488481  1.000000   \n",
       "avg_temp  0.007429  0.074739  0.076984  0.091523 -0.129759  0.279896   \n",
       "avg_humd  0.018934  0.580940  0.587759  0.591941 -0.673725  0.624464   \n",
       "avg_pres  0.038497 -0.665735 -0.673570 -0.674443  0.620152 -0.551333   \n",
       "avg_sm    0.023495  0.742982  0.747114  0.747698 -0.799049  0.582989   \n",
       "\n",
       "          avg_temp  avg_humd  avg_pres    avg_sm  \n",
       "Day       0.007429  0.018934  0.038497  0.023495  \n",
       "avg_pm1   0.074739  0.580940 -0.665735  0.742982  \n",
       "avg_pm2   0.076984  0.587759 -0.673570  0.747114  \n",
       "avg_pm3   0.091523  0.591941 -0.674443  0.747698  \n",
       "avg_am   -0.129759 -0.673725  0.620152 -0.799049  \n",
       "avg_lum   0.279896  0.624464 -0.551333  0.582989  \n",
       "avg_temp  1.000000 -0.193638 -0.009071  0.126597  \n",
       "avg_humd -0.193638  1.000000 -0.637130  0.740389  \n",
       "avg_pres -0.009071 -0.637130  1.000000 -0.695389  \n",
       "avg_sm    0.126597  0.740389 -0.695389  1.000000  "
      ]
     },
     "execution_count": 8,
     "metadata": {},
     "output_type": "execute_result"
    }
   ],
   "source": [
    "df.corr()"
   ]
  },
  {
   "cell_type": "code",
   "execution_count": 9,
   "metadata": {},
   "outputs": [
    {
     "name": "stderr",
     "output_type": "stream",
     "text": [
      "C:\\Users\\rajes\\AppData\\Local\\Temp\\ipykernel_13320\\221941791.py:1: FutureWarning: The default value of numeric_only in DataFrame.corr is deprecated. In a future version, it will default to False. Select only valid columns or specify the value of numeric_only to silence this warning.\n",
      "  sns.heatmap(df.corr(), annot=True)\n"
     ]
    },
    {
     "data": {
      "image/png": "[encoded data removed]",
      "text/plain": [
       "<Figure size 640x480 with 2 Axes>"
      ]
     },
     "metadata": {},
     "output_type": "display_data"
    }
   ],
   "source": [
    "sns.heatmap(df.corr(), annot=True)\n",
    "plt.show()"
   ]
  },
  {
   "cell_type": "markdown",
   "metadata": {},
   "source": [
    "#### Encoding Data"
   ]
  },
  {
   "cell_type": "code",
   "execution_count": 10,
   "metadata": {},
   "outputs": [],
   "source": [
    "from sklearn.preprocessing import LabelEncoder\n",
    "le=LabelEncoder()"
   ]
  },
  {
   "cell_type": "code",
   "execution_count": 11,
   "metadata": {},
   "outputs": [],
   "source": [
    "df['Month']=le.fit_transform(df['Month'])"
   ]
  },
  {
   "cell_type": "code",
   "execution_count": 12,
   "metadata": {},
   "outputs": [
    {
     "data": {
      "text/plain": [
       "0    31\n",
       "7    31\n",
       "1    31\n",
       "8    30\n",
       "6    30\n",
       "2    28\n",
       "3    19\n",
       "4    14\n",
       "5    10\n",
       "Name: Month, dtype: int64"
      ]
     },
     "execution_count": 12,
     "metadata": {},
     "output_type": "execute_result"
    }
   ],
   "source": [
    "df['Month'].value_counts()"
   ]
  },
  {
   "cell_type": "code",
   "execution_count": 13,
   "metadata": {},
   "outputs": [
    {
     "data": {
      "text/html": [
       "<div>\n",
       "<style scoped>\n",
       "    .dataframe tbody tr th:only-of-type {\n",
       "        vertical-align: middle;\n",
       "    }\n",
       "\n",
       "    .dataframe tbody tr th {\n",
       "        vertical-align: top;\n",
       "    }\n",
       "\n",
       "    .dataframe thead th {\n",
       "        text-align: right;\n",
       "    }\n",
       "</style>\n",
       "<table border=\"1\" class=\"dataframe\">\n",
       "  <thead>\n",
       "    <tr style=\"text-align: right;\">\n",
       "      <th></th>\n",
       "      <th>Month</th>\n",
       "      <th>Day</th>\n",
       "      <th>avg_pm1</th>\n",
       "      <th>avg_pm2</th>\n",
       "      <th>avg_pm3</th>\n",
       "      <th>avg_am</th>\n",
       "      <th>avg_lum</th>\n",
       "      <th>avg_temp</th>\n",
       "      <th>avg_humd</th>\n",
       "      <th>avg_pres</th>\n",
       "      <th>avg_sm</th>\n",
       "    </tr>\n",
       "  </thead>\n",
       "  <tbody>\n",
       "    <tr>\n",
       "      <th>0</th>\n",
       "      <td>4</td>\n",
       "      <td>18</td>\n",
       "      <td>3.548400</td>\n",
       "      <td>5.929200</td>\n",
       "      <td>24.940800</td>\n",
       "      <td>0.000000</td>\n",
       "      <td>2208.880000</td>\n",
       "      <td>21.660300</td>\n",
       "      <td>90.785900</td>\n",
       "      <td>92940.33720</td>\n",
       "      <td>7435.450000</td>\n",
       "    </tr>\n",
       "    <tr>\n",
       "      <th>1</th>\n",
       "      <td>4</td>\n",
       "      <td>19</td>\n",
       "      <td>3.416827</td>\n",
       "      <td>6.403133</td>\n",
       "      <td>116.188916</td>\n",
       "      <td>0.000000</td>\n",
       "      <td>3241.160643</td>\n",
       "      <td>23.232932</td>\n",
       "      <td>85.260723</td>\n",
       "      <td>92980.24438</td>\n",
       "      <td>7292.257028</td>\n",
       "    </tr>\n",
       "    <tr>\n",
       "      <th>2</th>\n",
       "      <td>4</td>\n",
       "      <td>20</td>\n",
       "      <td>3.030642</td>\n",
       "      <td>5.580000</td>\n",
       "      <td>132.736096</td>\n",
       "      <td>0.000000</td>\n",
       "      <td>3333.941176</td>\n",
       "      <td>23.238877</td>\n",
       "      <td>83.925134</td>\n",
       "      <td>93012.82439</td>\n",
       "      <td>7696.133690</td>\n",
       "    </tr>\n",
       "    <tr>\n",
       "      <th>3</th>\n",
       "      <td>4</td>\n",
       "      <td>21</td>\n",
       "      <td>3.091991</td>\n",
       "      <td>5.580000</td>\n",
       "      <td>128.520000</td>\n",
       "      <td>0.000000</td>\n",
       "      <td>3523.764706</td>\n",
       "      <td>23.670136</td>\n",
       "      <td>81.513756</td>\n",
       "      <td>93014.88014</td>\n",
       "      <td>7489.737557</td>\n",
       "    </tr>\n",
       "    <tr>\n",
       "      <th>4</th>\n",
       "      <td>4</td>\n",
       "      <td>22</td>\n",
       "      <td>3.129000</td>\n",
       "      <td>5.580000</td>\n",
       "      <td>128.520000</td>\n",
       "      <td>0.000000</td>\n",
       "      <td>3756.722727</td>\n",
       "      <td>23.031273</td>\n",
       "      <td>83.486409</td>\n",
       "      <td>93053.78677</td>\n",
       "      <td>7407.200000</td>\n",
       "    </tr>\n",
       "    <tr>\n",
       "      <th>...</th>\n",
       "      <td>...</td>\n",
       "      <td>...</td>\n",
       "      <td>...</td>\n",
       "      <td>...</td>\n",
       "      <td>...</td>\n",
       "      <td>...</td>\n",
       "      <td>...</td>\n",
       "      <td>...</td>\n",
       "      <td>...</td>\n",
       "      <td>...</td>\n",
       "      <td>...</td>\n",
       "    </tr>\n",
       "    <tr>\n",
       "      <th>219</th>\n",
       "      <td>5</td>\n",
       "      <td>6</td>\n",
       "      <td>0.879412</td>\n",
       "      <td>1.175882</td>\n",
       "      <td>27.509412</td>\n",
       "      <td>1.568627</td>\n",
       "      <td>2370.686275</td>\n",
       "      <td>25.522157</td>\n",
       "      <td>30.625490</td>\n",
       "      <td>93506.18961</td>\n",
       "      <td>328.196078</td>\n",
       "    </tr>\n",
       "    <tr>\n",
       "      <th>220</th>\n",
       "      <td>5</td>\n",
       "      <td>7</td>\n",
       "      <td>0.894615</td>\n",
       "      <td>1.196154</td>\n",
       "      <td>27.549231</td>\n",
       "      <td>2.907692</td>\n",
       "      <td>2919.384615</td>\n",
       "      <td>24.350192</td>\n",
       "      <td>34.319808</td>\n",
       "      <td>93501.60115</td>\n",
       "      <td>327.980769</td>\n",
       "    </tr>\n",
       "    <tr>\n",
       "      <th>221</th>\n",
       "      <td>5</td>\n",
       "      <td>8</td>\n",
       "      <td>0.879412</td>\n",
       "      <td>1.175882</td>\n",
       "      <td>27.509412</td>\n",
       "      <td>2.525490</td>\n",
       "      <td>2928.392157</td>\n",
       "      <td>24.857059</td>\n",
       "      <td>36.378824</td>\n",
       "      <td>93480.91706</td>\n",
       "      <td>327.039216</td>\n",
       "    </tr>\n",
       "    <tr>\n",
       "      <th>222</th>\n",
       "      <td>5</td>\n",
       "      <td>9</td>\n",
       "      <td>0.894615</td>\n",
       "      <td>1.196154</td>\n",
       "      <td>27.549231</td>\n",
       "      <td>2.276923</td>\n",
       "      <td>2852.634615</td>\n",
       "      <td>25.280385</td>\n",
       "      <td>32.512115</td>\n",
       "      <td>93407.17558</td>\n",
       "      <td>327.076923</td>\n",
       "    </tr>\n",
       "    <tr>\n",
       "      <th>223</th>\n",
       "      <td>5</td>\n",
       "      <td>10</td>\n",
       "      <td>0.866522</td>\n",
       "      <td>1.207391</td>\n",
       "      <td>27.714783</td>\n",
       "      <td>1.182609</td>\n",
       "      <td>2302.434783</td>\n",
       "      <td>21.228261</td>\n",
       "      <td>39.660870</td>\n",
       "      <td>93448.49174</td>\n",
       "      <td>326.652174</td>\n",
       "    </tr>\n",
       "  </tbody>\n",
       "</table>\n",
       "<p>224 rows × 11 columns</p>\n",
       "</div>"
      ],
      "text/plain": [
       "     Month  Day   avg_pm1   avg_pm2     avg_pm3    avg_am      avg_lum  \\\n",
       "0        4   18  3.548400  5.929200   24.940800  0.000000  2208.880000   \n",
       "1        4   19  3.416827  6.403133  116.188916  0.000000  3241.160643   \n",
       "2        4   20  3.030642  5.580000  132.736096  0.000000  3333.941176   \n",
       "3        4   21  3.091991  5.580000  128.520000  0.000000  3523.764706   \n",
       "4        4   22  3.129000  5.580000  128.520000  0.000000  3756.722727   \n",
       "..     ...  ...       ...       ...         ...       ...          ...   \n",
       "219      5    6  0.879412  1.175882   27.509412  1.568627  2370.686275   \n",
       "220      5    7  0.894615  1.196154   27.549231  2.907692  2919.384615   \n",
       "221      5    8  0.879412  1.175882   27.509412  2.525490  2928.392157   \n",
       "222      5    9  0.894615  1.196154   27.549231  2.276923  2852.634615   \n",
       "223      5   10  0.866522  1.207391   27.714783  1.182609  2302.434783   \n",
       "\n",
       "      avg_temp   avg_humd     avg_pres       avg_sm  \n",
       "0    21.660300  90.785900  92940.33720  7435.450000  \n",
       "1    23.232932  85.260723  92980.24438  7292.257028  \n",
       "2    23.238877  83.925134  93012.82439  7696.133690  \n",
       "3    23.670136  81.513756  93014.88014  7489.737557  \n",
       "4    23.031273  83.486409  93053.78677  7407.200000  \n",
       "..         ...        ...          ...          ...  \n",
       "219  25.522157  30.625490  93506.18961   328.196078  \n",
       "220  24.350192  34.319808  93501.60115   327.980769  \n",
       "221  24.857059  36.378824  93480.91706   327.039216  \n",
       "222  25.280385  32.512115  93407.17558   327.076923  \n",
       "223  21.228261  39.660870  93448.49174   326.652174  \n",
       "\n",
       "[224 rows x 11 columns]"
      ]
     },
     "execution_count": 13,
     "metadata": {},
     "output_type": "execute_result"
    }
   ],
   "source": [
    "df"
   ]
  },
  {
   "cell_type": "markdown",
   "metadata": {},
   "source": [
    "## Model Building\n",
    "##### Dealing with outliers"
   ]
  },
  {
   "cell_type": "code",
   "execution_count": 14,
   "metadata": {},
   "outputs": [
    {
     "data": {
      "image/png": "[encoded data removed]",
      "text/plain": [
       "<Figure size 800x600 with 1 Axes>"
      ]
     },
     "metadata": {},
     "output_type": "display_data"
    }
   ],
   "source": [
    "plt.figure(figsize=(8,6))\n",
    "plt.boxplot(df['avg_humd'])\n",
    "plt.title('Boxplot for Average Humidity')\n",
    "plt.ylabel('Average Humidity')\n",
    "plt.show()"
   ]
  },
  {
   "cell_type": "code",
   "execution_count": 15,
   "metadata": {},
   "outputs": [
    {
     "data": {
      "text/plain": [
       "<Axes: xlabel='avg_humd', ylabel='Density'>"
      ]
     },
     "execution_count": 15,
     "metadata": {},
     "output_type": "execute_result"
    },
    {
     "data": {
      "image/png": "[encoded data removed]",
      "text/plain": [
       "<Figure size 640x480 with 1 Axes>"
      ]
     },
     "metadata": {},
     "output_type": "display_data"
    }
   ],
   "source": [
    "sns.kdeplot(df.avg_humd)"
   ]
  },
  {
   "cell_type": "code",
   "execution_count": 16,
   "metadata": {},
   "outputs": [
    {
     "data": {
      "text/plain": [
       "-0.7756347412120641"
      ]
     },
     "execution_count": 16,
     "metadata": {},
     "output_type": "execute_result"
    }
   ],
   "source": [
    "df.avg_humd.skew()"
   ]
  },
  {
   "cell_type": "code",
   "execution_count": 17,
   "metadata": {},
   "outputs": [],
   "source": [
    "import scipy.stats as ss"
   ]
  },
  {
   "cell_type": "code",
   "execution_count": 18,
   "metadata": {},
   "outputs": [
    {
     "data": {
      "image/png": "[encoded data removed]",
      "text/plain": [
       "<Figure size 640x480 with 1 Axes>"
      ]
     },
     "metadata": {},
     "output_type": "display_data"
    }
   ],
   "source": [
    "ss.probplot(df.avg_humd,dist='norm',plot=plt)\n",
    "plt.show()"
   ]
  },
  {
   "cell_type": "code",
   "execution_count": 19,
   "metadata": {},
   "outputs": [
    {
     "data": {
      "image/png": "[encoded data removed]",
      "text/plain": [
       "<Figure size 800x600 with 1 Axes>"
      ]
     },
     "metadata": {},
     "output_type": "display_data"
    }
   ],
   "source": [
    "plt.figure(figsize=(8,6))\n",
    "sns.boxplot(df['avg_temp'])\n",
    "plt.title('Boxplot for Average Temperature')\n",
    "plt.ylabel('Average Temperature')\n",
    "plt.show()"
   ]
  },
  {
   "cell_type": "code",
   "execution_count": 20,
   "metadata": {},
   "outputs": [
    {
     "data": {
      "text/plain": [
       "0.75    23.551975\n",
       "0.50    22.744897\n",
       "0.25    21.756993\n",
       "1.00    25.733922\n",
       "Name: avg_temp, dtype: float64"
      ]
     },
     "execution_count": 20,
     "metadata": {},
     "output_type": "execute_result"
    }
   ],
   "source": [
    "quant = df.avg_temp.quantile(q=[0.75,0.5,0.25,1])\n",
    "quant"
   ]
  },
  {
   "cell_type": "code",
   "execution_count": 21,
   "metadata": {},
   "outputs": [
    {
     "data": {
      "text/plain": [
       "23.551975447500002"
      ]
     },
     "execution_count": 21,
     "metadata": {},
     "output_type": "execute_result"
    }
   ],
   "source": [
    "Q3 = df['avg_temp'].quantile(0.75)\n",
    "Q3"
   ]
  },
  {
   "cell_type": "code",
   "execution_count": 22,
   "metadata": {},
   "outputs": [
    {
     "data": {
      "text/plain": [
       "21.7569930075"
      ]
     },
     "execution_count": 22,
     "metadata": {},
     "output_type": "execute_result"
    }
   ],
   "source": [
    "Q1 = df['avg_temp'].quantile(0.25)\n",
    "Q1"
   ]
  },
  {
   "cell_type": "code",
   "execution_count": 23,
   "metadata": {},
   "outputs": [
    {
     "data": {
      "text/plain": [
       "1.7949824400000018"
      ]
     },
     "execution_count": 23,
     "metadata": {},
     "output_type": "execute_result"
    }
   ],
   "source": [
    "IQR = Q3 - Q1\n",
    "IQR"
   ]
  },
  {
   "cell_type": "code",
   "execution_count": 24,
   "metadata": {},
   "outputs": [
    {
     "data": {
      "text/plain": [
       "26.244449107500003"
      ]
     },
     "execution_count": 24,
     "metadata": {},
     "output_type": "execute_result"
    }
   ],
   "source": [
    "Max_Whisker = Q3 + 1.5 * IQR\n",
    "Max_Whisker"
   ]
  },
  {
   "cell_type": "code",
   "execution_count": 25,
   "metadata": {},
   "outputs": [
    {
     "data": {
      "text/plain": [
       "19.064519347499996"
      ]
     },
     "execution_count": 25,
     "metadata": {},
     "output_type": "execute_result"
    }
   ],
   "source": [
    "Min_Whisker = Q1 - 1.5 * IQR\n",
    "Min_Whisker"
   ]
  },
  {
   "cell_type": "code",
   "execution_count": 26,
   "metadata": {},
   "outputs": [
    {
     "data": {
      "text/html": [
       "<div>\n",
       "<style scoped>\n",
       "    .dataframe tbody tr th:only-of-type {\n",
       "        vertical-align: middle;\n",
       "    }\n",
       "\n",
       "    .dataframe tbody tr th {\n",
       "        vertical-align: top;\n",
       "    }\n",
       "\n",
       "    .dataframe thead th {\n",
       "        text-align: right;\n",
       "    }\n",
       "</style>\n",
       "<table border=\"1\" class=\"dataframe\">\n",
       "  <thead>\n",
       "    <tr style=\"text-align: right;\">\n",
       "      <th></th>\n",
       "      <th>Month</th>\n",
       "      <th>Day</th>\n",
       "      <th>avg_pm1</th>\n",
       "      <th>avg_pm2</th>\n",
       "      <th>avg_pm3</th>\n",
       "      <th>avg_am</th>\n",
       "      <th>avg_lum</th>\n",
       "      <th>avg_temp</th>\n",
       "      <th>avg_humd</th>\n",
       "      <th>avg_pres</th>\n",
       "      <th>avg_sm</th>\n",
       "    </tr>\n",
       "  </thead>\n",
       "  <tbody>\n",
       "    <tr>\n",
       "      <th>0</th>\n",
       "      <td>4</td>\n",
       "      <td>18</td>\n",
       "      <td>3.548400</td>\n",
       "      <td>5.929200</td>\n",
       "      <td>24.940800</td>\n",
       "      <td>0.000000</td>\n",
       "      <td>2208.880000</td>\n",
       "      <td>21.660300</td>\n",
       "      <td>90.785900</td>\n",
       "      <td>92940.33720</td>\n",
       "      <td>7435.450000</td>\n",
       "    </tr>\n",
       "    <tr>\n",
       "      <th>1</th>\n",
       "      <td>4</td>\n",
       "      <td>19</td>\n",
       "      <td>3.416827</td>\n",
       "      <td>6.403133</td>\n",
       "      <td>116.188916</td>\n",
       "      <td>0.000000</td>\n",
       "      <td>3241.160643</td>\n",
       "      <td>23.232932</td>\n",
       "      <td>85.260723</td>\n",
       "      <td>92980.24438</td>\n",
       "      <td>7292.257028</td>\n",
       "    </tr>\n",
       "    <tr>\n",
       "      <th>2</th>\n",
       "      <td>4</td>\n",
       "      <td>20</td>\n",
       "      <td>3.030642</td>\n",
       "      <td>5.580000</td>\n",
       "      <td>132.736096</td>\n",
       "      <td>0.000000</td>\n",
       "      <td>3333.941176</td>\n",
       "      <td>23.238877</td>\n",
       "      <td>83.925134</td>\n",
       "      <td>93012.82439</td>\n",
       "      <td>7696.133690</td>\n",
       "    </tr>\n",
       "    <tr>\n",
       "      <th>3</th>\n",
       "      <td>4</td>\n",
       "      <td>21</td>\n",
       "      <td>3.091991</td>\n",
       "      <td>5.580000</td>\n",
       "      <td>128.520000</td>\n",
       "      <td>0.000000</td>\n",
       "      <td>3523.764706</td>\n",
       "      <td>23.670136</td>\n",
       "      <td>81.513756</td>\n",
       "      <td>93014.88014</td>\n",
       "      <td>7489.737557</td>\n",
       "    </tr>\n",
       "    <tr>\n",
       "      <th>4</th>\n",
       "      <td>4</td>\n",
       "      <td>22</td>\n",
       "      <td>3.129000</td>\n",
       "      <td>5.580000</td>\n",
       "      <td>128.520000</td>\n",
       "      <td>0.000000</td>\n",
       "      <td>3756.722727</td>\n",
       "      <td>23.031273</td>\n",
       "      <td>83.486409</td>\n",
       "      <td>93053.78677</td>\n",
       "      <td>7407.200000</td>\n",
       "    </tr>\n",
       "    <tr>\n",
       "      <th>...</th>\n",
       "      <td>...</td>\n",
       "      <td>...</td>\n",
       "      <td>...</td>\n",
       "      <td>...</td>\n",
       "      <td>...</td>\n",
       "      <td>...</td>\n",
       "      <td>...</td>\n",
       "      <td>...</td>\n",
       "      <td>...</td>\n",
       "      <td>...</td>\n",
       "      <td>...</td>\n",
       "    </tr>\n",
       "    <tr>\n",
       "      <th>219</th>\n",
       "      <td>5</td>\n",
       "      <td>6</td>\n",
       "      <td>0.879412</td>\n",
       "      <td>1.175882</td>\n",
       "      <td>27.509412</td>\n",
       "      <td>1.568627</td>\n",
       "      <td>2370.686275</td>\n",
       "      <td>25.522157</td>\n",
       "      <td>30.625490</td>\n",
       "      <td>93506.18961</td>\n",
       "      <td>328.196078</td>\n",
       "    </tr>\n",
       "    <tr>\n",
       "      <th>220</th>\n",
       "      <td>5</td>\n",
       "      <td>7</td>\n",
       "      <td>0.894615</td>\n",
       "      <td>1.196154</td>\n",
       "      <td>27.549231</td>\n",
       "      <td>2.907692</td>\n",
       "      <td>2919.384615</td>\n",
       "      <td>24.350192</td>\n",
       "      <td>34.319808</td>\n",
       "      <td>93501.60115</td>\n",
       "      <td>327.980769</td>\n",
       "    </tr>\n",
       "    <tr>\n",
       "      <th>221</th>\n",
       "      <td>5</td>\n",
       "      <td>8</td>\n",
       "      <td>0.879412</td>\n",
       "      <td>1.175882</td>\n",
       "      <td>27.509412</td>\n",
       "      <td>2.525490</td>\n",
       "      <td>2928.392157</td>\n",
       "      <td>24.857059</td>\n",
       "      <td>36.378824</td>\n",
       "      <td>93480.91706</td>\n",
       "      <td>327.039216</td>\n",
       "    </tr>\n",
       "    <tr>\n",
       "      <th>222</th>\n",
       "      <td>5</td>\n",
       "      <td>9</td>\n",
       "      <td>0.894615</td>\n",
       "      <td>1.196154</td>\n",
       "      <td>27.549231</td>\n",
       "      <td>2.276923</td>\n",
       "      <td>2852.634615</td>\n",
       "      <td>25.280385</td>\n",
       "      <td>32.512115</td>\n",
       "      <td>93407.17558</td>\n",
       "      <td>327.076923</td>\n",
       "    </tr>\n",
       "    <tr>\n",
       "      <th>223</th>\n",
       "      <td>5</td>\n",
       "      <td>10</td>\n",
       "      <td>0.866522</td>\n",
       "      <td>1.207391</td>\n",
       "      <td>27.714783</td>\n",
       "      <td>1.182609</td>\n",
       "      <td>2302.434783</td>\n",
       "      <td>21.228261</td>\n",
       "      <td>39.660870</td>\n",
       "      <td>93448.49174</td>\n",
       "      <td>326.652174</td>\n",
       "    </tr>\n",
       "  </tbody>\n",
       "</table>\n",
       "<p>220 rows × 11 columns</p>\n",
       "</div>"
      ],
      "text/plain": [
       "     Month  Day   avg_pm1   avg_pm2     avg_pm3    avg_am      avg_lum  \\\n",
       "0        4   18  3.548400  5.929200   24.940800  0.000000  2208.880000   \n",
       "1        4   19  3.416827  6.403133  116.188916  0.000000  3241.160643   \n",
       "2        4   20  3.030642  5.580000  132.736096  0.000000  3333.941176   \n",
       "3        4   21  3.091991  5.580000  128.520000  0.000000  3523.764706   \n",
       "4        4   22  3.129000  5.580000  128.520000  0.000000  3756.722727   \n",
       "..     ...  ...       ...       ...         ...       ...          ...   \n",
       "219      5    6  0.879412  1.175882   27.509412  1.568627  2370.686275   \n",
       "220      5    7  0.894615  1.196154   27.549231  2.907692  2919.384615   \n",
       "221      5    8  0.879412  1.175882   27.509412  2.525490  2928.392157   \n",
       "222      5    9  0.894615  1.196154   27.549231  2.276923  2852.634615   \n",
       "223      5   10  0.866522  1.207391   27.714783  1.182609  2302.434783   \n",
       "\n",
       "      avg_temp   avg_humd     avg_pres       avg_sm  \n",
       "0    21.660300  90.785900  92940.33720  7435.450000  \n",
       "1    23.232932  85.260723  92980.24438  7292.257028  \n",
       "2    23.238877  83.925134  93012.82439  7696.133690  \n",
       "3    23.670136  81.513756  93014.88014  7489.737557  \n",
       "4    23.031273  83.486409  93053.78677  7407.200000  \n",
       "..         ...        ...          ...          ...  \n",
       "219  25.522157  30.625490  93506.18961   328.196078  \n",
       "220  24.350192  34.319808  93501.60115   327.980769  \n",
       "221  24.857059  36.378824  93480.91706   327.039216  \n",
       "222  25.280385  32.512115  93407.17558   327.076923  \n",
       "223  21.228261  39.660870  93448.49174   326.652174  \n",
       "\n",
       "[220 rows x 11 columns]"
      ]
     },
     "execution_count": 26,
     "metadata": {},
     "output_type": "execute_result"
    }
   ],
   "source": [
    "df_no_outliers = df[(df['avg_temp'] >= Min_Whisker) & (df['avg_temp'] <= Max_Whisker)]\n",
    "df_no_outliers"
   ]
  },
  {
   "cell_type": "code",
   "execution_count": 27,
   "metadata": {},
   "outputs": [
    {
     "data": {
      "image/png": "[encoded data removed]",
      "text/plain": [
       "<Figure size 800x600 with 1 Axes>"
      ]
     },
     "metadata": {},
     "output_type": "display_data"
    }
   ],
   "source": [
    "plt.figure(figsize=(8,6))\n",
    "sns.boxplot(df_no_outliers['avg_temp'])\n",
    "plt.title('Boxplot for Average Temperature')\n",
    "plt.ylabel('Average Temperature')\n",
    "plt.show()"
   ]
  },
  {
   "cell_type": "code",
   "execution_count": 28,
   "metadata": {},
   "outputs": [
    {
     "data": {
      "text/plain": [
       "<Axes: xlabel='avg_temp', ylabel='Density'>"
      ]
     },
     "execution_count": 28,
     "metadata": {},
     "output_type": "execute_result"
    },
    {
     "data": {
      "image/png": "[encoded data removed]",
      "text/plain": [
       "<Figure size 640x480 with 1 Axes>"
      ]
     },
     "metadata": {},
     "output_type": "display_data"
    }
   ],
   "source": [
    "sns.kdeplot(df.avg_temp)\n"
   ]
  },
  {
   "cell_type": "code",
   "execution_count": 29,
   "metadata": {},
   "outputs": [
    {
     "data": {
      "text/plain": [
       "-0.8599084062360317"
      ]
     },
     "execution_count": 29,
     "metadata": {},
     "output_type": "execute_result"
    }
   ],
   "source": [
    "df.avg_temp.skew()"
   ]
  },
  {
   "cell_type": "code",
   "execution_count": 30,
   "metadata": {},
   "outputs": [
    {
     "data": {
      "image/png": "[encoded data removed]",
      "text/plain": [
       "<Figure size 800x600 with 1 Axes>"
      ]
     },
     "metadata": {},
     "output_type": "display_data"
    }
   ],
   "source": [
    "plt.figure(figsize=(8,6))\n",
    "sns.boxplot(df['avg_sm'])\n",
    "plt.title('Boxplot for Average Soil Moisture')\n",
    "plt.show()"
   ]
  },
  {
   "cell_type": "code",
   "execution_count": 31,
   "metadata": {},
   "outputs": [
    {
     "data": {
      "image/png": "[encoded data removed]",
      "text/plain": [
       "<Figure size 640x480 with 1 Axes>"
      ]
     },
     "metadata": {},
     "output_type": "display_data"
    }
   ],
   "source": [
    "sns.kdeplot(df.avg_sm)\n",
    "plt.show()"
   ]
  },
  {
   "cell_type": "code",
   "execution_count": 32,
   "metadata": {},
   "outputs": [
    {
     "data": {
      "text/plain": [
       "0.2624091459611347"
      ]
     },
     "execution_count": 32,
     "metadata": {},
     "output_type": "execute_result"
    }
   ],
   "source": [
    "df.avg_sm.skew()"
   ]
  },
  {
   "cell_type": "code",
   "execution_count": 33,
   "metadata": {},
   "outputs": [],
   "source": [
    "import scipy.stats as ss"
   ]
  },
  {
   "cell_type": "code",
   "execution_count": 34,
   "metadata": {},
   "outputs": [
    {
     "data": {
      "image/png": "[encoded data removed]",
      "text/plain": [
       "<Figure size 640x480 with 1 Axes>"
      ]
     },
     "metadata": {},
     "output_type": "display_data"
    }
   ],
   "source": [
    "ss.probplot(df.avg_sm,dist='norm',plot=plt)\n",
    "plt.show()"
   ]
  },
  {
   "cell_type": "code",
   "execution_count": 35,
   "metadata": {},
   "outputs": [
    {
     "data": {
      "text/plain": [
       "3257.6136313816965"
      ]
     },
     "execution_count": 35,
     "metadata": {},
     "output_type": "execute_result"
    }
   ],
   "source": [
    "mean = df.avg_sm.mean()\n",
    "mean"
   ]
  },
  {
   "cell_type": "code",
   "execution_count": 36,
   "metadata": {},
   "outputs": [
    {
     "data": {
      "text/plain": [
       "3105.9986982517144"
      ]
     },
     "execution_count": 36,
     "metadata": {},
     "output_type": "execute_result"
    }
   ],
   "source": [
    "std = df.avg_sm.std()\n",
    "std"
   ]
  },
  {
   "cell_type": "code",
   "execution_count": 37,
   "metadata": {},
   "outputs": [
    {
     "data": {
      "text/plain": [
       "9317.996094755143"
      ]
     },
     "execution_count": 37,
     "metadata": {},
     "output_type": "execute_result"
    }
   ],
   "source": [
    "threshold = 3*std\n",
    "threshold"
   ]
  },
  {
   "cell_type": "code",
   "execution_count": 38,
   "metadata": {},
   "outputs": [
    {
     "data": {
      "text/plain": [
       "12575.60972613684"
      ]
     },
     "execution_count": 38,
     "metadata": {},
     "output_type": "execute_result"
    }
   ],
   "source": [
    "upper = mean + threshold\n",
    "upper"
   ]
  },
  {
   "cell_type": "code",
   "execution_count": 39,
   "metadata": {},
   "outputs": [
    {
     "data": {
      "text/plain": [
       "-6060.382463373446"
      ]
     },
     "execution_count": 39,
     "metadata": {},
     "output_type": "execute_result"
    }
   ],
   "source": [
    "lower = mean - threshold\n",
    "lower"
   ]
  },
  {
   "cell_type": "code",
   "execution_count": 40,
   "metadata": {},
   "outputs": [
    {
     "data": {
      "text/plain": [
       "array([7435.45     , 7292.257028 , 7696.13369  , 7489.737557 ,\n",
       "       7407.2      , 7073.700461 , 6778.054945 , 6920.14359  ,\n",
       "       6543.608911 , 6540.594872 , 7156.544118 , 7243.569832 ,\n",
       "       6887.1      , 6928.581006 , 6760.55618  , 6493.698324 ,\n",
       "       6322.482759 , 6772.874214 , 7180.050314 , 7175.943038 ,\n",
       "       7024.50625  , 7024.829114 , 6947.069182 , 7127.662069 ,\n",
       "       7042.479167 , 7204.006993 , 7175.326389 , 6825.194444 ,\n",
       "       6668.965035 , 6871.13986  , 6833.171642 , 7161.175573 ,\n",
       "       6871.829457 , 7025.343511 , 7025.161538 , 7046.152672 ,\n",
       "       7022.618321 , 6873.580153 , 6717.950413 , 6508.453782 ,\n",
       "       6697.504202 , 6724.716667 , 6211.883333 , 6429.3      ,\n",
       "       6727.714286 , 6985.9      , 6854.104348 , 6984.783784 ,\n",
       "       7085.627273 , 7136.513761 , 7128.765766 , 7182.972973 ,\n",
       "       7183.336364 , 7198.972477 , 7186.590909 , 7166.214953 ,\n",
       "       7185.15534  , 7232.466019 , 7214.145631 , 7222.92233  ,\n",
       "       7184.116505 , 7161.475728 , 7151.078431 , 7109.834951 ,\n",
       "       6995.786408 , 6849.381443 , 6595.177083 , 5926.135417 ,\n",
       "       4537.59375  , 3437.729167 , 2731.46875  , 2228.729167 ,\n",
       "       1792.4375   , 1436.708333 , 3493.770833 , 6196.882979 ,\n",
       "       6271.511111 , 6347.244444 , 6367.833333 , 6374.366667 ,\n",
       "       6338.088889 , 6252.144444 , 6140.711111 , 5833.111111 ,\n",
       "       6052.788889 , 6351.227273 , 6416.704545 , 6431.235294 ,\n",
       "       6436.190476 , 6525.235294 , 6508.282353 , 6518.094118 ,\n",
       "       6576.785714 , 6575.058824 , 6691.658824 , 6724.154762 ,\n",
       "       6754.411765 , 6751.070588 , 6648.109756 , 6496.4      ,\n",
       "       6227.987342 , 5444.962025 , 3757.9875   , 2683.7125   ,\n",
       "       2136.525    , 1670.575    , 1361.1375   ,  738.0625   ,\n",
       "        609.125    , 1019.2375   ,  988.7179487,  965.0263158,\n",
       "        941.56     ,  919.6973684,  897.2894737,  870.4459459,\n",
       "        843.4189189,  816.0526316,  786.1842105,  755.7368421,\n",
       "        726.5263158,  699.8933333,  670.0657895,  641.1232877,\n",
       "        615.7361111,  593.1666667,  572.0555556,  559.3611111,\n",
       "        545.4305556,  530.6527778,  519.8333333,  509.5633803,\n",
       "        501.7638889,  493.0277778,  485.3611111,  477.8333333,\n",
       "        468.6666667,  464.9558824,  462.5942029,  456.3235294,\n",
       "        448.7536232,  440.4492754,  431.7794118,  426.9230769,\n",
       "        420.5897436,  417.3970588,  415.2753623,  413.8405797,\n",
       "        413.1692308,  414.0923077,  411.0757576,  407.03125  ,\n",
       "        404.8730159,  402.5606061,  398.4769231,  393.9242424,\n",
       "        390.5538462,  387.8030303,  385.5384615,  382.9538462,\n",
       "        379.796875 ,  379.2258065,  380.8888889,  379.7142857,\n",
       "        377.6129032,  376.2063492,  373.6774194,  371.2380952,\n",
       "        368.9365079,  367.1451613,  365.5555556,  362.8095238,\n",
       "        360.4354839,  359.0833333,  344.7878788,  342.5666667,\n",
       "        342.2542373,  342.3448276,  343.3793103,  344.9122807,\n",
       "        346.2241379,  346.2982456,  344.3103448,  342.3448276,\n",
       "        341.9298246,  342.5      ,  342.0701754,  340.8448276,\n",
       "        339.2068966,  340.4210526,  341.5517241,  341.625    ,\n",
       "        341.4363636,  340.8035714,  340.5454545,  340.2909091,\n",
       "        339.7636364,  339.0181818,  338.1071429,  335.8727273,\n",
       "        333.8909091,  332.9464286,  332.3272727,  332.1636364,\n",
       "        332.6071429,  332.8      ,  333.5740741,  333.5471698,\n",
       "        333.3207547,  332.5      ,  331.9433962,  331.6037736,\n",
       "        331.037037 ,  330.6792453,  330.1320755,  330.0740741,\n",
       "        329.1320755,  328.5098039,  328.3333333,  328.1960784,\n",
       "        327.9807692,  327.0392157,  327.0769231,  326.6521739])"
      ]
     },
     "execution_count": 40,
     "metadata": {},
     "output_type": "execute_result"
    }
   ],
   "source": [
    "np.where(df.avg_sm>12575.60972613684,12575.60972613684,df.avg_sm)"
   ]
  },
  {
   "cell_type": "code",
   "execution_count": 41,
   "metadata": {},
   "outputs": [
    {
     "data": {
      "text/html": [
       "<div>\n",
       "<style scoped>\n",
       "    .dataframe tbody tr th:only-of-type {\n",
       "        vertical-align: middle;\n",
       "    }\n",
       "\n",
       "    .dataframe tbody tr th {\n",
       "        vertical-align: top;\n",
       "    }\n",
       "\n",
       "    .dataframe thead th {\n",
       "        text-align: right;\n",
       "    }\n",
       "</style>\n",
       "<table border=\"1\" class=\"dataframe\">\n",
       "  <thead>\n",
       "    <tr style=\"text-align: right;\">\n",
       "      <th></th>\n",
       "      <th>Month</th>\n",
       "      <th>Day</th>\n",
       "      <th>avg_pm1</th>\n",
       "      <th>avg_pm2</th>\n",
       "      <th>avg_pm3</th>\n",
       "      <th>avg_am</th>\n",
       "      <th>avg_lum</th>\n",
       "      <th>avg_temp</th>\n",
       "      <th>avg_humd</th>\n",
       "      <th>avg_pres</th>\n",
       "      <th>avg_sm</th>\n",
       "    </tr>\n",
       "  </thead>\n",
       "  <tbody>\n",
       "    <tr>\n",
       "      <th>0</th>\n",
       "      <td>4</td>\n",
       "      <td>18</td>\n",
       "      <td>3.548400</td>\n",
       "      <td>5.929200</td>\n",
       "      <td>24.940800</td>\n",
       "      <td>0.000000</td>\n",
       "      <td>2208.880000</td>\n",
       "      <td>21.660300</td>\n",
       "      <td>90.785900</td>\n",
       "      <td>92940.33720</td>\n",
       "      <td>7435.450000</td>\n",
       "    </tr>\n",
       "    <tr>\n",
       "      <th>1</th>\n",
       "      <td>4</td>\n",
       "      <td>19</td>\n",
       "      <td>3.416827</td>\n",
       "      <td>6.403133</td>\n",
       "      <td>116.188916</td>\n",
       "      <td>0.000000</td>\n",
       "      <td>3241.160643</td>\n",
       "      <td>23.232932</td>\n",
       "      <td>85.260723</td>\n",
       "      <td>92980.24438</td>\n",
       "      <td>7292.257028</td>\n",
       "    </tr>\n",
       "    <tr>\n",
       "      <th>2</th>\n",
       "      <td>4</td>\n",
       "      <td>20</td>\n",
       "      <td>3.030642</td>\n",
       "      <td>5.580000</td>\n",
       "      <td>132.736096</td>\n",
       "      <td>0.000000</td>\n",
       "      <td>3333.941176</td>\n",
       "      <td>23.238877</td>\n",
       "      <td>83.925134</td>\n",
       "      <td>93012.82439</td>\n",
       "      <td>7696.133690</td>\n",
       "    </tr>\n",
       "    <tr>\n",
       "      <th>3</th>\n",
       "      <td>4</td>\n",
       "      <td>21</td>\n",
       "      <td>3.091991</td>\n",
       "      <td>5.580000</td>\n",
       "      <td>128.520000</td>\n",
       "      <td>0.000000</td>\n",
       "      <td>3523.764706</td>\n",
       "      <td>23.670136</td>\n",
       "      <td>81.513756</td>\n",
       "      <td>93014.88014</td>\n",
       "      <td>7489.737557</td>\n",
       "    </tr>\n",
       "    <tr>\n",
       "      <th>4</th>\n",
       "      <td>4</td>\n",
       "      <td>22</td>\n",
       "      <td>3.129000</td>\n",
       "      <td>5.580000</td>\n",
       "      <td>128.520000</td>\n",
       "      <td>0.000000</td>\n",
       "      <td>3756.722727</td>\n",
       "      <td>23.031273</td>\n",
       "      <td>83.486409</td>\n",
       "      <td>93053.78677</td>\n",
       "      <td>7407.200000</td>\n",
       "    </tr>\n",
       "    <tr>\n",
       "      <th>...</th>\n",
       "      <td>...</td>\n",
       "      <td>...</td>\n",
       "      <td>...</td>\n",
       "      <td>...</td>\n",
       "      <td>...</td>\n",
       "      <td>...</td>\n",
       "      <td>...</td>\n",
       "      <td>...</td>\n",
       "      <td>...</td>\n",
       "      <td>...</td>\n",
       "      <td>...</td>\n",
       "    </tr>\n",
       "    <tr>\n",
       "      <th>219</th>\n",
       "      <td>5</td>\n",
       "      <td>6</td>\n",
       "      <td>0.879412</td>\n",
       "      <td>1.175882</td>\n",
       "      <td>27.509412</td>\n",
       "      <td>1.568627</td>\n",
       "      <td>2370.686275</td>\n",
       "      <td>25.522157</td>\n",
       "      <td>30.625490</td>\n",
       "      <td>93506.18961</td>\n",
       "      <td>328.196078</td>\n",
       "    </tr>\n",
       "    <tr>\n",
       "      <th>220</th>\n",
       "      <td>5</td>\n",
       "      <td>7</td>\n",
       "      <td>0.894615</td>\n",
       "      <td>1.196154</td>\n",
       "      <td>27.549231</td>\n",
       "      <td>2.907692</td>\n",
       "      <td>2919.384615</td>\n",
       "      <td>24.350192</td>\n",
       "      <td>34.319808</td>\n",
       "      <td>93501.60115</td>\n",
       "      <td>327.980769</td>\n",
       "    </tr>\n",
       "    <tr>\n",
       "      <th>221</th>\n",
       "      <td>5</td>\n",
       "      <td>8</td>\n",
       "      <td>0.879412</td>\n",
       "      <td>1.175882</td>\n",
       "      <td>27.509412</td>\n",
       "      <td>2.525490</td>\n",
       "      <td>2928.392157</td>\n",
       "      <td>24.857059</td>\n",
       "      <td>36.378824</td>\n",
       "      <td>93480.91706</td>\n",
       "      <td>327.039216</td>\n",
       "    </tr>\n",
       "    <tr>\n",
       "      <th>222</th>\n",
       "      <td>5</td>\n",
       "      <td>9</td>\n",
       "      <td>0.894615</td>\n",
       "      <td>1.196154</td>\n",
       "      <td>27.549231</td>\n",
       "      <td>2.276923</td>\n",
       "      <td>2852.634615</td>\n",
       "      <td>25.280385</td>\n",
       "      <td>32.512115</td>\n",
       "      <td>93407.17558</td>\n",
       "      <td>327.076923</td>\n",
       "    </tr>\n",
       "    <tr>\n",
       "      <th>223</th>\n",
       "      <td>5</td>\n",
       "      <td>10</td>\n",
       "      <td>0.866522</td>\n",
       "      <td>1.207391</td>\n",
       "      <td>27.714783</td>\n",
       "      <td>1.182609</td>\n",
       "      <td>2302.434783</td>\n",
       "      <td>21.228261</td>\n",
       "      <td>39.660870</td>\n",
       "      <td>93448.49174</td>\n",
       "      <td>326.652174</td>\n",
       "    </tr>\n",
       "  </tbody>\n",
       "</table>\n",
       "<p>224 rows × 11 columns</p>\n",
       "</div>"
      ],
      "text/plain": [
       "     Month  Day   avg_pm1   avg_pm2     avg_pm3    avg_am      avg_lum  \\\n",
       "0        4   18  3.548400  5.929200   24.940800  0.000000  2208.880000   \n",
       "1        4   19  3.416827  6.403133  116.188916  0.000000  3241.160643   \n",
       "2        4   20  3.030642  5.580000  132.736096  0.000000  3333.941176   \n",
       "3        4   21  3.091991  5.580000  128.520000  0.000000  3523.764706   \n",
       "4        4   22  3.129000  5.580000  128.520000  0.000000  3756.722727   \n",
       "..     ...  ...       ...       ...         ...       ...          ...   \n",
       "219      5    6  0.879412  1.175882   27.509412  1.568627  2370.686275   \n",
       "220      5    7  0.894615  1.196154   27.549231  2.907692  2919.384615   \n",
       "221      5    8  0.879412  1.175882   27.509412  2.525490  2928.392157   \n",
       "222      5    9  0.894615  1.196154   27.549231  2.276923  2852.634615   \n",
       "223      5   10  0.866522  1.207391   27.714783  1.182609  2302.434783   \n",
       "\n",
       "      avg_temp   avg_humd     avg_pres       avg_sm  \n",
       "0    21.660300  90.785900  92940.33720  7435.450000  \n",
       "1    23.232932  85.260723  92980.24438  7292.257028  \n",
       "2    23.238877  83.925134  93012.82439  7696.133690  \n",
       "3    23.670136  81.513756  93014.88014  7489.737557  \n",
       "4    23.031273  83.486409  93053.78677  7407.200000  \n",
       "..         ...        ...          ...          ...  \n",
       "219  25.522157  30.625490  93506.18961   328.196078  \n",
       "220  24.350192  34.319808  93501.60115   327.980769  \n",
       "221  24.857059  36.378824  93480.91706   327.039216  \n",
       "222  25.280385  32.512115  93407.17558   327.076923  \n",
       "223  21.228261  39.660870  93448.49174   326.652174  \n",
       "\n",
       "[224 rows x 11 columns]"
      ]
     },
     "execution_count": 41,
     "metadata": {},
     "output_type": "execute_result"
    }
   ],
   "source": [
    "df_no_outliers1 = df[(df['avg_sm'] >= lower) & (df['avg_sm'] <= upper)]\n",
    "df_no_outliers1"
   ]
  },
  {
   "cell_type": "markdown",
   "metadata": {},
   "source": [
    "#### Train-Test Split"
   ]
  },
  {
   "cell_type": "code",
   "execution_count": 42,
   "metadata": {},
   "outputs": [],
   "source": [
    "x = df[['Month','Day','avg_temp','avg_humd']]\n",
    "y = df['avg_sm']"
   ]
  },
  {
   "cell_type": "code",
   "execution_count": 43,
   "metadata": {},
   "outputs": [],
   "source": [
    "from sklearn.model_selection import train_test_split\n",
    "x_train, x_test, y_train, y_test = train_test_split(x,y,test_size=0.2,random_state=42)"
   ]
  },
  {
   "cell_type": "code",
   "execution_count": 44,
   "metadata": {},
   "outputs": [],
   "source": [
    "from sklearn.preprocessing import StandardScaler\n",
    "ss = StandardScaler()\n",
    "x_train = ss.fit_transform(x_train)\n",
    "x_test = ss.transform(x_test)"
   ]
  },
  {
   "cell_type": "markdown",
   "metadata": {},
   "source": [
    "### Training And Testing The Models Using Multiple Algorithms\n",
    "#### 1.Linear Regression"
   ]
  },
  {
   "cell_type": "code",
   "execution_count": 45,
   "metadata": {},
   "outputs": [
    {
     "data": {
      "text/html": [
       "<style>#sk-container-id-1 {color: black;}#sk-container-id-1 pre{padding: 0;}#sk-container-id-1 div.sk-toggleable {background-color: white;}#sk-container-id-1 label.sk-toggleable__label {cursor: pointer;display: block;width: 100%;margin-bottom: 0;padding: 0.3em;box-sizing: border-box;text-align: center;}#sk-container-id-1 label.sk-toggleable__label-arrow:before {content: \"▸\";float: left;margin-right: 0.25em;color: #696969;}#sk-container-id-1 label.sk-toggleable__label-arrow:hover:before {color: black;}#sk-container-id-1 div.sk-estimator:hover label.sk-toggleable__label-arrow:before {color: black;}#sk-container-id-1 div.sk-toggleable__content {max-height: 0;max-width: 0;overflow: hidden;text-align: left;background-color: #f0f8ff;}#sk-container-id-1 div.sk-toggleable__content pre {margin: 0.2em;color: black;border-radius: 0.25em;background-color: #f0f8ff;}#sk-container-id-1 input.sk-toggleable__control:checked~div.sk-toggleable__content {max-height: 200px;max-width: 100%;overflow: auto;}#sk-container-id-1 input.sk-toggleable__control:checked~label.sk-toggleable__label-arrow:before {content: \"▾\";}#sk-container-id-1 div.sk-estimator input.sk-toggleable__control:checked~label.sk-toggleable__label {background-color: #d4ebff;}#sk-container-id-1 div.sk-label input.sk-toggleable__control:checked~label.sk-toggleable__label {background-color: #d4ebff;}#sk-container-id-1 input.sk-hidden--visually {border: 0;clip: rect(1px 1px 1px 1px);clip: rect(1px, 1px, 1px, 1px);height: 1px;margin: -1px;overflow: hidden;padding: 0;position: absolute;width: 1px;}#sk-container-id-1 div.sk-estimator {font-family: monospace;background-color: #f0f8ff;border: 1px dotted black;border-radius: 0.25em;box-sizing: border-box;margin-bottom: 0.5em;}#sk-container-id-1 div.sk-estimator:hover {background-color: #d4ebff;}#sk-container-id-1 div.sk-parallel-item::after {content: \"\";width: 100%;border-bottom: 1px solid gray;flex-grow: 1;}#sk-container-id-1 div.sk-label:hover label.sk-toggleable__label {background-color: #d4ebff;}#sk-container-id-1 div.sk-serial::before {content: \"\";position: absolute;border-left: 1px solid gray;box-sizing: border-box;top: 0;bottom: 0;left: 50%;z-index: 0;}#sk-container-id-1 div.sk-serial {display: flex;flex-direction: column;align-items: center;background-color: white;padding-right: 0.2em;padding-left: 0.2em;position: relative;}#sk-container-id-1 div.sk-item {position: relative;z-index: 1;}#sk-container-id-1 div.sk-parallel {display: flex;align-items: stretch;justify-content: center;background-color: white;position: relative;}#sk-container-id-1 div.sk-item::before, #sk-container-id-1 div.sk-parallel-item::before {content: \"\";position: absolute;border-left: 1px solid gray;box-sizing: border-box;top: 0;bottom: 0;left: 50%;z-index: -1;}#sk-container-id-1 div.sk-parallel-item {display: flex;flex-direction: column;z-index: 1;position: relative;background-color: white;}#sk-container-id-1 div.sk-parallel-item:first-child::after {align-self: flex-end;width: 50%;}#sk-container-id-1 div.sk-parallel-item:last-child::after {align-self: flex-start;width: 50%;}#sk-container-id-1 div.sk-parallel-item:only-child::after {width: 0;}#sk-container-id-1 div.sk-dashed-wrapped {border: 1px dashed gray;margin: 0 0.4em 0.5em 0.4em;box-sizing: border-box;padding-bottom: 0.4em;background-color: white;}#sk-container-id-1 div.sk-label label {font-family: monospace;font-weight: bold;display: inline-block;line-height: 1.2em;}#sk-container-id-1 div.sk-label-container {text-align: center;}#sk-container-id-1 div.sk-container {/* jupyter's `normalize.less` sets `[hidden] { display: none; }` but bootstrap.min.css set `[hidden] { display: none !important; }` so we also need the `!important` here to be able to override the default hidden behavior on the sphinx rendered scikit-learn.org. See: https://github.com/scikit-learn/scikit-learn/issues/21755 */display: inline-block !important;position: relative;}#sk-container-id-1 div.sk-text-repr-fallback {display: none;}</style><div id=\"sk-container-id-1\" class=\"sk-top-container\"><div class=\"sk-text-repr-fallback\"><pre>LinearRegression()</pre><b>In a Jupyter environment, please rerun this cell to show the HTML representation or trust the notebook. <br />On GitHub, the HTML representation is unable to render, please try loading this page with nbviewer.org.</b></div><div class=\"sk-container\" hidden><div class=\"sk-item\"><div class=\"sk-estimator sk-toggleable\"><input class=\"sk-toggleable__control sk-hidden--visually\" id=\"sk-estimator-id-1\" type=\"checkbox\" checked><label for=\"sk-estimator-id-1\" class=\"sk-toggleable__label sk-toggleable__label-arrow\">LinearRegression</label><div class=\"sk-toggleable__content\"><pre>LinearRegression()</pre></div></div></div></div></div>"
      ],
      "text/plain": [
       "LinearRegression()"
      ]
     },
     "execution_count": 45,
     "metadata": {},
     "output_type": "execute_result"
    }
   ],
   "source": [
    "from sklearn.linear_model import LinearRegression\n",
    "LR = LinearRegression()\n",
    "LR.fit(x_train,y_train)"
   ]
  },
  {
   "cell_type": "code",
   "execution_count": 46,
   "metadata": {},
   "outputs": [
    {
     "data": {
      "text/plain": [
       "array([ 5109.07270298,  6290.16810823,  1422.23854185,  -447.4158682 ,\n",
       "         -22.81181733,  1701.38395469,  5032.1973152 ,  1669.79952473,\n",
       "        1559.83095316,  2495.35296154,  6071.95613987,  5425.73796409,\n",
       "       -2239.97087876,  5376.4304896 ,  5283.80200947,  5888.83130294,\n",
       "         575.93209164,  5090.63405466,  -342.02208878,  2963.78130945,\n",
       "        5731.57173591,  5302.18245273,  5857.33076889,   835.80452095,\n",
       "        4934.30766041,   797.20805302,  1112.42052683,  5072.76827657,\n",
       "        5919.55356952,  1983.05754465,  -668.73031814,  5299.72933817,\n",
       "        5441.76634798,   686.76763815,  -195.8549075 ,   973.95702863,\n",
       "        -162.43843836,  3503.70227745,  5871.44591133,  2616.86050764,\n",
       "        3195.64518446,  1771.34774601,    39.19466745,  3393.87351313,\n",
       "        2102.73029715])"
      ]
     },
     "execution_count": 46,
     "metadata": {},
     "output_type": "execute_result"
    }
   ],
   "source": [
    "y_pred = LR.predict(x_test)\n",
    "y_pred"
   ]
  },
  {
   "cell_type": "code",
   "execution_count": 47,
   "metadata": {},
   "outputs": [
    {
     "name": "stdout",
     "output_type": "stream",
     "text": [
      "Training Accuracy=  0.6121957327878695\n",
      "Test Accuracy=  0.686597323109953\n"
     ]
    }
   ],
   "source": [
    "print(\"Training Accuracy= \", LR.score(x_train,y_train))\n",
    "print(\"Test Accuracy= \", LR.score(x_test,y_test))"
   ]
  },
  {
   "cell_type": "code",
   "execution_count": 48,
   "metadata": {},
   "outputs": [
    {
     "name": "stdout",
     "output_type": "stream",
     "text": [
      "R-squared:  0.686597323109953\n"
     ]
    }
   ],
   "source": [
    "from sklearn.metrics import  mean_absolute_error, mean_squared_error, r2_score\n",
    "r2_lr = r2_score(y_test,y_pred)\n",
    "print(\"R-squared: \", r2_lr)"
   ]
  },
  {
   "cell_type": "markdown",
   "metadata": {},
   "source": [
    "#### 2.Random Forest Regressor"
   ]
  },
  {
   "cell_type": "code",
   "execution_count": 49,
   "metadata": {},
   "outputs": [],
   "source": [
    "from sklearn.ensemble import RandomForestRegressor"
   ]
  },
  {
   "cell_type": "code",
   "execution_count": 50,
   "metadata": {},
   "outputs": [],
   "source": [
    "RFR = RandomForestRegressor(n_estimators = 20, random_state = 0)\n",
    "RFR.fit(x_train,y_train)\n",
    "y_pred1= RFR.predict(x_test) \n",
    "R_squared = r2_score(y_test,y_pred1)"
   ]
  },
  {
   "cell_type": "code",
   "execution_count": 51,
   "metadata": {},
   "outputs": [
    {
     "name": "stdout",
     "output_type": "stream",
     "text": [
      "R_squared:  0.8970265598773314\n"
     ]
    }
   ],
   "source": [
    "from sklearn import metrics \n",
    "print('R_squared: ',R_squared)"
   ]
  },
  {
   "cell_type": "code",
   "execution_count": 52,
   "metadata": {},
   "outputs": [
    {
     "name": "stdout",
     "output_type": "stream",
     "text": [
      "Training Accuracy =  0.9734102340086067\n",
      "Test Accuracy =  0.8970265598773314\n"
     ]
    }
   ],
   "source": [
    "from sklearn.metrics import confusion_matrix, accuracy_score\n",
    "print(\"Training Accuracy = \", RFR.score(x_train,y_train))\n",
    "print(\"Test Accuracy = \", RFR.score(x_test,y_test))"
   ]
  },
  {
   "cell_type": "markdown",
   "metadata": {},
   "source": [
    "#### 3.Decision Tree Regressor"
   ]
  },
  {
   "cell_type": "code",
   "execution_count": 53,
   "metadata": {},
   "outputs": [
    {
     "data": {
      "text/html": [
       "<style>#sk-container-id-2 {color: black;}#sk-container-id-2 pre{padding: 0;}#sk-container-id-2 div.sk-toggleable {background-color: white;}#sk-container-id-2 label.sk-toggleable__label {cursor: pointer;display: block;width: 100%;margin-bottom: 0;padding: 0.3em;box-sizing: border-box;text-align: center;}#sk-container-id-2 label.sk-toggleable__label-arrow:before {content: \"▸\";float: left;margin-right: 0.25em;color: #696969;}#sk-container-id-2 label.sk-toggleable__label-arrow:hover:before {color: black;}#sk-container-id-2 div.sk-estimator:hover label.sk-toggleable__label-arrow:before {color: black;}#sk-container-id-2 div.sk-toggleable__content {max-height: 0;max-width: 0;overflow: hidden;text-align: left;background-color: #f0f8ff;}#sk-container-id-2 div.sk-toggleable__content pre {margin: 0.2em;color: black;border-radius: 0.25em;background-color: #f0f8ff;}#sk-container-id-2 input.sk-toggleable__control:checked~div.sk-toggleable__content {max-height: 200px;max-width: 100%;overflow: auto;}#sk-container-id-2 input.sk-toggleable__control:checked~label.sk-toggleable__label-arrow:before {content: \"▾\";}#sk-container-id-2 div.sk-estimator input.sk-toggleable__control:checked~label.sk-toggleable__label {background-color: #d4ebff;}#sk-container-id-2 div.sk-label input.sk-toggleable__control:checked~label.sk-toggleable__label {background-color: #d4ebff;}#sk-container-id-2 input.sk-hidden--visually {border: 0;clip: rect(1px 1px 1px 1px);clip: rect(1px, 1px, 1px, 1px);height: 1px;margin: -1px;overflow: hidden;padding: 0;position: absolute;width: 1px;}#sk-container-id-2 div.sk-estimator {font-family: monospace;background-color: #f0f8ff;border: 1px dotted black;border-radius: 0.25em;box-sizing: border-box;margin-bottom: 0.5em;}#sk-container-id-2 div.sk-estimator:hover {background-color: #d4ebff;}#sk-container-id-2 div.sk-parallel-item::after {content: \"\";width: 100%;border-bottom: 1px solid gray;flex-grow: 1;}#sk-container-id-2 div.sk-label:hover label.sk-toggleable__label {background-color: #d4ebff;}#sk-container-id-2 div.sk-serial::before {content: \"\";position: absolute;border-left: 1px solid gray;box-sizing: border-box;top: 0;bottom: 0;left: 50%;z-index: 0;}#sk-container-id-2 div.sk-serial {display: flex;flex-direction: column;align-items: center;background-color: white;padding-right: 0.2em;padding-left: 0.2em;position: relative;}#sk-container-id-2 div.sk-item {position: relative;z-index: 1;}#sk-container-id-2 div.sk-parallel {display: flex;align-items: stretch;justify-content: center;background-color: white;position: relative;}#sk-container-id-2 div.sk-item::before, #sk-container-id-2 div.sk-parallel-item::before {content: \"\";position: absolute;border-left: 1px solid gray;box-sizing: border-box;top: 0;bottom: 0;left: 50%;z-index: -1;}#sk-container-id-2 div.sk-parallel-item {display: flex;flex-direction: column;z-index: 1;position: relative;background-color: white;}#sk-container-id-2 div.sk-parallel-item:first-child::after {align-self: flex-end;width: 50%;}#sk-container-id-2 div.sk-parallel-item:last-child::after {align-self: flex-start;width: 50%;}#sk-container-id-2 div.sk-parallel-item:only-child::after {width: 0;}#sk-container-id-2 div.sk-dashed-wrapped {border: 1px dashed gray;margin: 0 0.4em 0.5em 0.4em;box-sizing: border-box;padding-bottom: 0.4em;background-color: white;}#sk-container-id-2 div.sk-label label {font-family: monospace;font-weight: bold;display: inline-block;line-height: 1.2em;}#sk-container-id-2 div.sk-label-container {text-align: center;}#sk-container-id-2 div.sk-container {/* jupyter's `normalize.less` sets `[hidden] { display: none; }` but bootstrap.min.css set `[hidden] { display: none !important; }` so we also need the `!important` here to be able to override the default hidden behavior on the sphinx rendered scikit-learn.org. See: https://github.com/scikit-learn/scikit-learn/issues/21755 */display: inline-block !important;position: relative;}#sk-container-id-2 div.sk-text-repr-fallback {display: none;}</style><div id=\"sk-container-id-2\" class=\"sk-top-container\"><div class=\"sk-text-repr-fallback\"><pre>DecisionTreeRegressor()</pre><b>In a Jupyter environment, please rerun this cell to show the HTML representation or trust the notebook. <br />On GitHub, the HTML representation is unable to render, please try loading this page with nbviewer.org.</b></div><div class=\"sk-container\" hidden><div class=\"sk-item\"><div class=\"sk-estimator sk-toggleable\"><input class=\"sk-toggleable__control sk-hidden--visually\" id=\"sk-estimator-id-2\" type=\"checkbox\" checked><label for=\"sk-estimator-id-2\" class=\"sk-toggleable__label sk-toggleable__label-arrow\">DecisionTreeRegressor</label><div class=\"sk-toggleable__content\"><pre>DecisionTreeRegressor()</pre></div></div></div></div></div>"
      ],
      "text/plain": [
       "DecisionTreeRegressor()"
      ]
     },
     "execution_count": 53,
     "metadata": {},
     "output_type": "execute_result"
    }
   ],
   "source": [
    "from sklearn.tree import DecisionTreeRegressor\n",
    "\n",
    "DTR = DecisionTreeRegressor()\n",
    "DTR.fit(x_train, y_train)"
   ]
  },
  {
   "cell_type": "code",
   "execution_count": 54,
   "metadata": {},
   "outputs": [
    {
     "data": {
      "text/plain": [
       "array([7243.569832 , 6338.088889 ,  843.4189189,  417.3970588,\n",
       "        327.0769231,  941.56     , 7109.834951 , 1670.575    ,\n",
       "        343.3793103,  373.6774194, 7185.15534  , 7024.50625  ,\n",
       "        338.1071429, 7042.479167 , 6871.829457 , 6854.104348 ,\n",
       "        342.2542373, 5833.111111 ,  331.9433962, 6648.109756 ,\n",
       "       6724.154762 , 7175.943038 , 6367.833333 ,  456.3235294,\n",
       "       7127.662069 , 6947.069182 ,  341.625    , 7151.078431 ,\n",
       "       7222.92233  , 3757.9875   ,  332.5      , 2228.729167 ,\n",
       "       7175.943038 ,  340.4210526,  387.8030303,  870.4459459,\n",
       "        385.5384615,  988.7179487, 6338.088889 ,  344.9122807,\n",
       "        456.3235294,  332.6071429,  346.2982456,  699.8933333,\n",
       "        377.6129032])"
      ]
     },
     "execution_count": 54,
     "metadata": {},
     "output_type": "execute_result"
    }
   ],
   "source": [
    "y_pred2 = DTR.predict(x_test)\n",
    "y_pred2"
   ]
  },
  {
   "cell_type": "code",
   "execution_count": 55,
   "metadata": {},
   "outputs": [
    {
     "name": "stdout",
     "output_type": "stream",
     "text": [
      "R-squared: 0.7337021654424883\n"
     ]
    }
   ],
   "source": [
    "from sklearn.metrics import r2_score\n",
    "rscore=r2_score(y_test,y_pred2)\n",
    "print(\"R-squared:\",rscore)"
   ]
  },
  {
   "cell_type": "code",
   "execution_count": 56,
   "metadata": {},
   "outputs": [
    {
     "name": "stdout",
     "output_type": "stream",
     "text": [
      "Training Accuracy =  1.0\n",
      "Test Accuracy =  0.7337021654424883\n"
     ]
    }
   ],
   "source": [
    "print(\"Training Accuracy = \", DTR.score(x_train,y_train))\n",
    "print(\"Test Accuracy = \", DTR.score(x_test,y_test))"
   ]
  },
  {
   "cell_type": "markdown",
   "metadata": {},
   "source": [
    "#### 4.XGBoost"
   ]
  },
  {
   "cell_type": "code",
   "execution_count": 57,
   "metadata": {},
   "outputs": [
    {
     "name": "stdout",
     "output_type": "stream",
     "text": [
      "R_squared:  0.940738599209349\n"
     ]
    }
   ],
   "source": [
    "import xgboost as xgb\n",
    "from sklearn.metrics import r2_score\n",
    "\n",
    "regressor = xgb.XGBRegressor(n_estimators=100, learning_rate=0.1, max_depth=3, objective='reg:squarederror', random_state=0)\n",
    "regressor.fit(x_train, y_train)\n",
    "y_pred4 = regressor.predict(x_test)\n",
    "r2 = r2_score(y_test, y_pred4)\n",
    "print(\"R_squared: \", r2)"
   ]
  },
  {
   "cell_type": "code",
   "execution_count": 58,
   "metadata": {},
   "outputs": [
    {
     "name": "stdout",
     "output_type": "stream",
     "text": [
      "Training Accuracy =  0.994730881473816\n",
      "Test Accuracy =  0.940738599209349\n"
     ]
    }
   ],
   "source": [
    "print(\"Training Accuracy = \", regressor.score(x_train,y_train))\n",
    "print(\"Test Accuracy = \", regressor.score(x_test,y_test))"
   ]
  },
  {
   "cell_type": "markdown",
   "metadata": {},
   "source": [
    "#### 5.K-Nearest Neighbour"
   ]
  },
  {
   "cell_type": "code",
   "execution_count": 59,
   "metadata": {},
   "outputs": [
    {
     "name": "stdout",
     "output_type": "stream",
     "text": [
      "R_squared:  0.7766106181741755\n"
     ]
    }
   ],
   "source": [
    "from sklearn.neighbors import KNeighborsRegressor\n",
    "from sklearn.metrics import mean_absolute_error, mean_squared_error, r2_score\n",
    "\n",
    "knn_regressor = KNeighborsRegressor(n_neighbors=15)\n",
    "knn_regressor.fit(x_train,y_train)\n",
    "y_pred5 = knn_regressor.predict(x_test)\n",
    "r2_knn = r2_score(y_test, y_pred5)\n",
    "\n",
    "print(\"R_squared: \",r2_knn)"
   ]
  },
  {
   "cell_type": "code",
   "execution_count": 60,
   "metadata": {},
   "outputs": [
    {
     "name": "stdout",
     "output_type": "stream",
     "text": [
      "Training Accuracy =  0.7137423091029751\n",
      "Test Accuracy =  0.7766106181741755\n"
     ]
    }
   ],
   "source": [
    "print(\"Training Accuracy = \", knn_regressor.score(x_train, y_train))\n",
    "print(\"Test Accuracy = \", knn_regressor.score(x_test,y_test))"
   ]
  },
  {
   "cell_type": "markdown",
   "metadata": {},
   "source": [
    "## Performance Testing\n",
    "#### Comparing All The Models"
   ]
  },
  {
   "cell_type": "code",
   "execution_count": 61,
   "metadata": {},
   "outputs": [
    {
     "data": {
      "text/html": [
       "<div>\n",
       "<style scoped>\n",
       "    .dataframe tbody tr th:only-of-type {\n",
       "        vertical-align: middle;\n",
       "    }\n",
       "\n",
       "    .dataframe tbody tr th {\n",
       "        vertical-align: top;\n",
       "    }\n",
       "\n",
       "    .dataframe thead th {\n",
       "        text-align: right;\n",
       "    }\n",
       "</style>\n",
       "<table border=\"1\" class=\"dataframe\">\n",
       "  <thead>\n",
       "    <tr style=\"text-align: right;\">\n",
       "      <th></th>\n",
       "      <th>model</th>\n",
       "      <th>R2_score</th>\n",
       "    </tr>\n",
       "  </thead>\n",
       "  <tbody>\n",
       "    <tr>\n",
       "      <th>0</th>\n",
       "      <td>Linear Regression</td>\n",
       "      <td>0.686597</td>\n",
       "    </tr>\n",
       "    <tr>\n",
       "      <th>1</th>\n",
       "      <td>Decison Tree Regressor</td>\n",
       "      <td>0.897027</td>\n",
       "    </tr>\n",
       "    <tr>\n",
       "      <th>2</th>\n",
       "      <td>Random Forest Regressor</td>\n",
       "      <td>0.733702</td>\n",
       "    </tr>\n",
       "    <tr>\n",
       "      <th>3</th>\n",
       "      <td>XGBoost</td>\n",
       "      <td>0.940739</td>\n",
       "    </tr>\n",
       "    <tr>\n",
       "      <th>4</th>\n",
       "      <td>KNN</td>\n",
       "      <td>0.776611</td>\n",
       "    </tr>\n",
       "  </tbody>\n",
       "</table>\n",
       "</div>"
      ],
      "text/plain": [
       "                     model  R2_score\n",
       "0        Linear Regression  0.686597\n",
       "1   Decison Tree Regressor  0.897027\n",
       "2  Random Forest Regressor  0.733702\n",
       "3                  XGBoost  0.940739\n",
       "4                      KNN  0.776611"
      ]
     },
     "execution_count": 61,
     "metadata": {},
     "output_type": "execute_result"
    }
   ],
   "source": [
    "accuracy_df = pd.DataFrame({'model':['Linear Regression', 'Decison Tree Regressor', 'Random Forest Regressor', 'XGBoost', 'KNN'],\n",
    "                            'R2_score' : [r2_lr,R_squared,rscore,r2,r2_knn]})\n",
    "accuracy_df"
   ]
  },
  {
   "cell_type": "markdown",
   "metadata": {},
   "source": [
    "#### Graphical Representation Of The Model Comparison."
   ]
  },
  {
   "cell_type": "code",
   "execution_count": 62,
   "metadata": {},
   "outputs": [
    {
     "data": {
      "image/png": "[encoded data removed]",
      "text/plain": [
       "<Figure size 1200x800 with 1 Axes>"
      ]
     },
     "metadata": {},
     "output_type": "display_data"
    }
   ],
   "source": [
    "model = ['Linear Regression', 'Decision Tree Regressor', 'Random Forest Regressor', 'XGBoost', 'KNN']\n",
    "R2_score = [r2_lr,R_squared,rscore,r2,r2_knn]\n",
    "plt.figure(figsize=(12,8))\n",
    "sns.barplot(x=model, y=R2_score,color='Green')\n",
    "plt.show()"
   ]
  },
  {
   "cell_type": "markdown",
   "metadata": {},
   "source": [
    "#### Save and Load the best Model"
   ]
  },
  {
   "cell_type": "code",
   "execution_count": null,
   "metadata": {},
   "outputs": [],
   "source": [
    "import pickle\n",
    "pickle.dump(knn_regressor,open(\"Soil-moisture-model.pkl\",\"wb\"))"
   ]
  },
  {
   "cell_type": "markdown",
   "metadata": {},
   "source": [
    "#### Test the Model"
   ]
  },
  {
   "cell_type": "code",
   "execution_count": 66,
   "metadata": {},
   "outputs": [
    {
     "name": "stdout",
     "output_type": "stream",
     "text": [
      "[4401.125]\n"
     ]
    }
   ],
   "source": [
    "print(regressor.predict([[5,15,20,45.04169811]]))"
   ]
  },
  {
   "cell_type": "code",
   "execution_count": null,
   "metadata": {},
   "outputs": [],
   "source": []
  }
 ],
 "metadata": {
  "kernelspec": {
   "display_name": "Python 3",
   "language": "python",
   "name": "python3"
  },
  "language_info": {
   "codemirror_mode": {
    "name": "ipython",
    "version": 3
   },
   "file_extension": ".py",
   "mimetype": "text/x-python",
   "name": "python",
   "nbconvert_exporter": "python",
   "pygments_lexer": "ipython3",
   "version": "3.10.7"
  }
 },
 "nbformat": 4,
 "nbformat_minor": 2
}
